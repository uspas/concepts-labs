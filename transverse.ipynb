{
 "cells": [
  {
   "cell_type": "markdown",
   "id": "2191be8b-5652-40f5-8734-4405f74e687d",
   "metadata": {},
   "source": [
    "![alt text](images/uspas.png)\n",
    "\n",
    "# Concepts of Accelerator Science and Technology \n",
    "# Computer Lab: Transverse Dynamics\n",
    "##### Author: N. Neveu\n",
    "\n",
    "This session deals with transverse dynamics in two sections. The first demonstrates the evolution of a beam envelope by tracking a particle through a thin lens FODO lattice. The second demonstrates how offsets in a lattice can impact beam trajectory in a linear machine. \n",
    "\n",
    "### Python Notes:\n",
    "\n",
    "- Highlight (click into) a notebook cell and press Shift+Enter to execute, or use the play button at the top of the window.\n",
    "- Make sure you execute notebook cells in order. You must re-execute prior cells if you change something needed in a cell above where you are working.\n",
    "- You can also execute the whole notebook by using 'Run all cells' under the 'Run' tab.\n",
    "- '2**2' represents two squared, i.e. 2^2\n",
    "- A colon (:) means all values in that dimension. i.e. array[:,2] = all rows, second column\n",
    "- You can change the plot limits by adjusting the numbers in 'plt.ylim()'\n",
    "- Using the '@' symbol does matrix multiplication\n",
    "\n",
    "----------"
   ]
  },
  {
   "cell_type": "code",
   "execution_count": null,
   "id": "978a76cf-d023-4725-b740-1a01b12b48b2",
   "metadata": {},
   "outputs": [],
   "source": [
    "### Run this cell to load needed packages\n",
    "%matplotlib inline\n",
    "from ipywidgets import interactive\n",
    "\n",
    "# Importing plotting library\n",
    "import matplotlib\n",
    "from matplotlib import pyplot as plt\n",
    "\n",
    "#Setting resolution of plot (changes size too)\n",
    "matplotlib.rcParams['figure.dpi'] = 100\n",
    "\n",
    "# Importing math library\n",
    "import numpy as np"
   ]
  },
  {
   "cell_type": "markdown",
   "id": "fc12f9ff-9d25-42fc-b8d6-6629b312db7c",
   "metadata": {},
   "source": [
    "# 1. FODO Lattices \n",
    "FODO lattices are one of the most commonly used beam line configurations, and have been for many decades in accelerator physics. \n",
    "\n",
    "![alt text](images/fodo1.png)\n",
    "![alt text](images/fodo2.png)\n",
    "\n",
    "\n",
    "Consider a focusing and defocusing quad that are spaced 1 meter apart....\n",
    "\n",
    "## **Q1.1) What does FODO stand for?** \n",
    "\n",
    "## **Q1.2) What types of magnets are used for F and D?**\n",
    "\n",
    "## **Q1.3) In the next cell, define the transfer matrices for the three types of elements (matrices) in a FODO lattice.**\n",
    "### Transverse matrices are typically 2x2 and represent 1 dimension (x or y). i.e. replace the zeros."
   ]
  },
  {
   "cell_type": "code",
   "execution_count": null,
   "id": "ee39d75c-acd2-4b47-b031-e551b9e9b62c",
   "metadata": {},
   "outputs": [],
   "source": [
    "def fodo_mats(L, f):\n",
    "    drift = np.array([[0, 0],\n",
    "                      [0, 0]])\n",
    "\n",
    "    fquad  = np.array([[0, 0],\n",
    "                       [0, 0]])\n",
    "\n",
    "    dquad  = np.array([[0, 0],\n",
    "                       [0, 0]])\n",
    "\n",
    "    mats = {'drift': drift, \n",
    "            'fquad': fquad, \n",
    "            'dquad': dquad,}\n",
    "    \n",
    "    return mats\n",
    "\n",
    "def matrix_calcs(lattice, x0):\n",
    "    # lattice = fodo matrices \n",
    "    # x0 = initial conditions\n",
    "    data = [x0,] \n",
    "    for i, ele in enumerate(lattice):\n",
    "        data.append(ele @ data[i])  \n",
    "    return data"
   ]
  },
  {
   "cell_type": "markdown",
   "id": "7a22bd03-a0b6-4073-98b4-9ab5db1ea4bc",
   "metadata": {},
   "source": [
    "## **Q1.4) In the next cell, we define the initial conditions of our particles. As shown in the homework, this can be represented by a 2x1 matrix. Explain what these offsets mean physically.** "
   ]
  },
  {
   "cell_type": "code",
   "execution_count": null,
   "id": "cfbb6738-ea8e-4634-a9a4-8f3cf63f90ca",
   "metadata": {},
   "outputs": [],
   "source": [
    "xinit_offset = 0.5\n",
    "xinit_angle  = 0.3\n",
    "d1   = 1 # meters - drift length\n",
    "qkl  = 2  \n",
    "    \n",
    "mats = fodo_mats(d1, qkl)"
   ]
  },
  {
   "cell_type": "code",
   "execution_count": null,
   "id": "e5100ba3-ab65-4a2c-b475-eeebf235800a",
   "metadata": {},
   "outputs": [],
   "source": [
    "def plot_fodo(xinit_offset, xinit_angle):\n",
    "    # Plotting the data    \n",
    "    plt.figure(figsize=[10,3])\n",
    "    x0 = np.array([[xinit_offset],\n",
    "                   [xinit_angle]])\n",
    "    lattice = [mats['drift'], mats['fquad'], mats['drift'], mats['dquad'], mats['drift']]\n",
    "    data = matrix_calcs(lattice, x0) \n",
    "    xvalues = [i[0] for i in data]\n",
    "    zvalues = [0, 1, 1, 2, 2,3]\n",
    "    plt.plot(zvalues, xvalues, markersize=10)\n",
    "    plt.ylabel('x [m]', size=14)\n",
    "    plt.xlabel('z [m]', size=14)\n",
    "    plt.grid()    \n",
    "    plt.show()"
   ]
  },
  {
   "cell_type": "code",
   "execution_count": null,
   "id": "c0054873-134b-4d25-8052-21c48be057a4",
   "metadata": {},
   "outputs": [],
   "source": [
    "# You can adjust the angle and offset ranges here:\n",
    "xmin  = -0.1\n",
    "xmax  = 0.1\n",
    "xstep = 0.02\n",
    "amin  = -1.0\n",
    "amax  = 1.5\n",
    "astep = 0.2\n",
    "\n",
    "interactive_plot = interactive(plot_fodo, xinit_offset=(xmin, xmax, xstep), xinit_angle=(amin, amax, astep))\n",
    "output = interactive_plot.children[-1]\n",
    "output.layout.height = '400px'\n",
    "interactive_plot"
   ]
  },
  {
   "cell_type": "markdown",
   "id": "372b8248-cfdf-4e82-a451-521b76580749",
   "metadata": {},
   "source": [
    "## **Q1.5) Play with the initial conditions to get an understanding of the particle trajectory.**\n",
    "A) What initial conditions result in a straight line? Why?   \n",
    "B) Are there conditions that will result in $x(z=0) = x(z=3)$? i.e. the same x offset at the start and end of the trajectory.\n",
    "C) Choose a trajectory and explain the path the particle is taking. Paste a screen shot here, you can also annotate.   "
   ]
  },
  {
   "cell_type": "code",
   "execution_count": null,
   "id": "58ab91ce-373f-4097-a526-5263774bbf9f",
   "metadata": {},
   "outputs": [],
   "source": []
  },
  {
   "cell_type": "markdown",
   "id": "ab8c6a62-ed29-4247-82d5-c81c517c94e8",
   "metadata": {},
   "source": [
    "## **Q1.6) Next we will plot multiple particle trajectories on the same plot.** \n",
    "Again you can adjust the plot by changing the initial condition ranges.   \n",
    "Explain what is being shown here? "
   ]
  },
  {
   "cell_type": "code",
   "execution_count": null,
   "id": "f52538cc-fbb1-4620-bedb-b84ac7031018",
   "metadata": {},
   "outputs": [],
   "source": [
    "def plot_fodo_all(xinit_offset, xinit_angle):\n",
    "    # Plotting the data    \n",
    "    x0 = np.array([[xinit_offset],\n",
    "                   [xinit_angle]])\n",
    "    lattice = [mats['drift'], mats['fquad'], mats['drift'], mats['dquad'], mats['drift']]\n",
    "    data    = matrix_calcs(lattice, x0) \n",
    "    xvalues = [i[0] for i in data]\n",
    "    zvalues = [0, 1, 1, 2, 2,3]\n",
    "    plt.plot(zvalues, xvalues, markersize=10,label='')"
   ]
  },
  {
   "cell_type": "code",
   "execution_count": null,
   "id": "819c09ae-5d40-445d-ab00-986f237faff3",
   "metadata": {},
   "outputs": [],
   "source": [
    "plt.figure(figsize=[10,3])\n",
    "plt.ylabel('x [m]', size=14)\n",
    "plt.xlabel('z [m]', size=14)\n",
    "plt.grid()  \n",
    "\n",
    "# plot multiple initial conditions\n",
    "for xoff in np.arange(xmin,xmax, xstep):\n",
    "    for xang in np.arange(amin,amax, astep):\n",
    "        plot_fodo_all(xoff,xang)"
   ]
  },
  {
   "cell_type": "markdown",
   "id": "3b0f4f71-c3a2-47e0-add7-092d267344a5",
   "metadata": {},
   "source": [
    "## **OPTIONAL: Plot the changes in x' (Q5). What do you observe about the particle behavior?**"
   ]
  },
  {
   "cell_type": "markdown",
   "id": "b13be5d3-b8e5-4d78-b900-ea60666aea5f",
   "metadata": {},
   "source": [
    "# 2. LCLS-SC Example\n",
    "\n",
    "The Linac Coherent Light Source [(LCLS)](https://lcls.slac.stanford.edu/) at SLAC is an Free Electron Laser [(FEL)](https://uspas.fnal.gov/materials/materials-table.shtml) facility that provides x-rays to a variety of users. The x-rays are generated with two operating linear accelerators. The copper accelerator (LCLS-CU) has been operating since 2009, and provides electrons up to 15 GeV. The superconding accelerator (LCLS-SC), started commissioning in 2022, and will be able to provide electrons of 8 GeV, after the high energy (HE) upgrade in 2026. \n",
    "\n",
    "![alt text](images/slac_layout.png)"
   ]
  },
  {
   "cell_type": "markdown",
   "id": "5dad4dd5-3498-44ff-aa1a-2cecefa27569",
   "metadata": {},
   "source": [
    "In LCLS-SC, niobium cavities are cooled to 2K during operation. Each cryomodule has 8 cavities that provide ~100-120 MeV of energy to the beam. Currently, we have 35 cryomodules that provide a total beam energy of about 4 GeV. \n",
    "\n",
    "![alt text](images/cryomodule.jpeg)"
   ]
  },
  {
   "cell_type": "markdown",
   "id": "84adbeb7-184f-4a15-9999-a84c218d5c7a",
   "metadata": {},
   "source": [
    "Each cryomodule also has a quadrupole and correccting magnets behind the last cavity. This effectively means we do not have beam orbit information in the middle of the cryomodule (~10 meters long). If the beam (or dark current) enters the cryomdule at an angle, or off-axis, the beam may get a kick from the cryomodule magnets when it exits the cryomodule. This exact scenario has happened at LCLS-SC in , and we used basic matrix calculations to estimate where dark current would hit the next module. "
   ]
  },
  {
   "cell_type": "markdown",
   "id": "45ec4a47-6650-4df0-af3a-6b4daf33e4c9",
   "metadata": {},
   "source": [
    "Consider the beam line layout in the next figure. The magnets in cryomodule 34 are located at z = 635 m. Higher than normal radiation levels were observed between cavities 6 and 7 on cryomodule 34. The start of cryomodule 35 is at 636.5 m. We need to caculate if it is possible for off phase dark current (from cryomodule 35) to hit the wall of cryomodule 35 between cavities 6 and 7. "
   ]
  },
  {
   "cell_type": "markdown",
   "id": "39eda270-a4aa-498d-86cf-1cbb7f2632a9",
   "metadata": {},
   "source": [
    " ![alt text](images/cm_matrix_layout.png)"
   ]
  },
  {
   "cell_type": "markdown",
   "id": "290cd067-d436-4470-bd3d-ce9a479532fa",
   "metadata": {},
   "source": [
    "Let's simplify this problem to match a standard matrix calculation for a quad and corrector. Given the distances in the figure above, we can re-write the problem as: \n",
    "\n",
    "![alt text](images/simple_layout.png)"
   ]
  },
  {
   "cell_type": "markdown",
   "id": "4da28558-fb37-43f0-a9ae-c31f71364810",
   "metadata": {},
   "source": [
    "Where $q_{cm}$ is the location of the quad AND corrector magnets, and we flipped the distances so that the exit of cryomodule 35 is at $x_0$. The drift distances are indicated by $d_1$ and $d_2$. Given this configuration, assume the magnet strength of the quad is $kx=0.0019$ KG-m and $ky=0.0025$ KG-m. The effective length of the quad is $l_q = 0.1$ m. Note: we are ignoring any focusing effects from the accelerating fields in the cavities. This is not completely realistic, but rather an estimate. We also can interchange $x$ and $y$ dimension by using the magnet strengths and offsets in those respective dimensions. In the next few questions we will step through determining if beam will hit the side of the cryomodule."
   ]
  },
  {
   "cell_type": "markdown",
   "id": "6106b129-ae5d-4a68-83c0-57c3bb8c14ce",
   "metadata": {},
   "source": [
    "Now, let's define a function that will do the matrix calculation to find the beam offset at $x_2$. \n",
    "\n",
    "$$\n",
    "\\begin{pmatrix}\n",
    "  x_2 \\\\\n",
    "  {x'}_2  \n",
    "\\end{pmatrix} = M_d M_m M_d\n",
    "\\begin{pmatrix}\n",
    "  x_0 \\\\\n",
    "  {x'}_0 \n",
    "\\end{pmatrix} \n",
    "$$\n",
    "\n",
    "Where $M_t$ is the transfer function that represents the drift and magent matrices.TODO:fix x prime notation."
   ]
  },
  {
   "cell_type": "code",
   "execution_count": null,
   "id": "ab7a1ed2-73bc-472f-a9f5-f5a13f1ccbad",
   "metadata": {},
   "outputs": [],
   "source": [
    "# The @ sign in Python does matrix multiplication\n",
    "def calculate_x2(x0, drift1, drift2, magnet):\n",
    "    return drift2 @ magnet @ drift1 @ x0"
   ]
  },
  {
   "cell_type": "markdown",
   "id": "9d160b2a-b180-4f6a-8d93-ffb66f154c66",
   "metadata": {},
   "source": [
    "## **Q2.1) Fill in the constants we will need to solve for the beam offset at $x_2$.**"
   ]
  },
  {
   "cell_type": "code",
   "execution_count": null,
   "id": "46300643-6632-4bba-a8d9-dd85ed789155",
   "metadata": {},
   "outputs": [],
   "source": [
    "# Constants\n",
    "d1 = 0.0 # m, drift 1\n",
    "d2 = 0.0 # m, drift 2\n",
    "# Multiply field strength by length to get T units\n",
    "ql = 0.0 # m, effective length of the quad\n",
    "klx = 0.0*ql  # T-m = 19  G-m, quad strength in x \n",
    "kly = 0.0*ql # T-m = -25 G-m, quad strength in y - taking absolute value\n",
    "energy = 0.6 # GeV, beam energy after traveling through 4 cavities"
   ]
  },
  {
   "cell_type": "markdown",
   "id": "4f029220-2507-4c63-9898-a176cc6d1d7a",
   "metadata": {},
   "source": [
    "## **Q2.2) Fill in an initial x and y position offset and trajectory angle. Assume something in the millimeter and millirad range. How does this compare to a typcial beam pipe radius?**"
   ]
  },
  {
   "cell_type": "code",
   "execution_count": null,
   "id": "345b7532-f792-4ec2-b303-a7dd15d17490",
   "metadata": {},
   "outputs": [],
   "source": [
    "# Initial conditions\n",
    "# 10 degrees = ~0.17 rad\n",
    "xinit_offset = 0.001 # m, Say we start w/ 1 mm offset\n",
    "xinit_angle  = 0.01 # rad, Say we start with a very small angle (best case)\n",
    "\n",
    "yinit_offset = 0.001 # m, Say we start w/ 1 mm offset\n",
    "yinit_angle  = 0.0 # rad, Say we start with no angle (best case)"
   ]
  },
  {
   "cell_type": "markdown",
   "id": "3cea0ad6-1e8d-4c45-8570-e2e97658ba87",
   "metadata": {},
   "source": [
    "## **Q2.3) Based on the constants and values we defined, fill in the matrix definitions that we need to describe the beam line. Some of the zeros below are placeholders.**"
   ]
  },
  {
   "cell_type": "code",
   "execution_count": null,
   "id": "96bd01f8-aea9-472c-b9e5-1241db78baef",
   "metadata": {},
   "outputs": [],
   "source": [
    "x0 = np.array([[0], # matrix for initial x0 offset\n",
    "               [0]])\n",
    "\n",
    "y0 = np.array([[0], # matrix for initial y0 offset\n",
    "               [0]])\n",
    "\n",
    "m_d1 = np.array([[0, 0], # matrix for d1\n",
    "                 [0, 0]])\n",
    "\n",
    "m_d2 = np.array([[0, 0], # matrix for d2\n",
    "                 [0, 0]])\n",
    "\n",
    "q_x = np.array([[0, 0], # matrix for quad, x dimension\n",
    "                [0, 0]])\n",
    "\n",
    "q_y = np.array([[0, 0], # matrix for quad, y dimension\n",
    "                [0, 0]])"
   ]
  },
  {
   "cell_type": "markdown",
   "id": "1fc56afc-fe84-4e4b-9e34-aa5619b2ed76",
   "metadata": {},
   "source": [
    "## **Q2.4) Call the calculate_x2 function, with the variables we defined above for cryomodule 34 and 35. Print the resulting offsets in x and y. Based on these results, will we hit the wall?**"
   ]
  },
  {
   "cell_type": "code",
   "execution_count": null,
   "id": "3d9c54e2-d7fc-424a-85f8-f24ab3432519",
   "metadata": {},
   "outputs": [],
   "source": [
    "x2 = calculate_x2(x0, m_d1, m_d2, q_x)\n",
    "y2 = calculate_x2(y0, m_d1, m_d2, q_y)\n",
    "print('Beam offset at CM34 in x: ', x2[0][0]*1000, 'mm')\n",
    "print('Beam offset at CM34 in y: ', y2[0][0]*1000, 'mm')"
   ]
  },
  {
   "cell_type": "markdown",
   "id": "7f68d459-34fa-4928-911e-35e79c90a5d4",
   "metadata": {},
   "source": [
    "# 3 Challenge problem (optional)\n",
    "\n",
    "The quadrupole magnets in each cryomodule are combination magnets that include corrector magnets for the x and y dimenison as well. You can approximate these magnets as small and weak dipoles. \n",
    "Dark current passing through the correctors may also be kicked into the wall. Calculate how big of an initial offset would cause the beam to deflect 10 mm at x2. Note corrector strengths are currently at: $x_{34} = 0.019$ KG-m and $y_{34} = -0.025$ KG-m. \n",
    "Representing the correctors as small dipoles, the field strength (B), magnet length (L), bend angle ($\\theta$), arc length ($\\rho$), and radius can be related. "
   ]
  },
  {
   "cell_type": "markdown",
   "id": "6a30b81b-739d-41c4-b35b-d66f8ff02059",
   "metadata": {},
   "source": [
    "## **Q3.1) Let's define a function to calculate $\\rho$ and $\\theta$ for a dipole magnet. How does the beam energy impact the radius?**"
   ]
  },
  {
   "cell_type": "code",
   "execution_count": null,
   "id": "8f3b66b8-a540-4807-ac78-9af4d2824e9e",
   "metadata": {},
   "outputs": [],
   "source": [
    "# Define function related to constant values we need to model a dipole matrix\n",
    "# Assuming momentum and kinetic energy differences are neglible (electrons)\n",
    "def calc_rho_theta(energy, k, l):\n",
    "    rho   = energy / (0.3*k*l)\n",
    "    theta = l/rho\n",
    "    print('rho', rho, 'theta', theta)\n",
    "    return rho, theta"
   ]
  },
  {
   "cell_type": "markdown",
   "id": "4f8b7309-279f-4950-8881-dda09d8eff61",
   "metadata": {},
   "source": [
    "## **Q3.2) Define the relevant constants for the corrector magnets.**"
   ]
  },
  {
   "cell_type": "code",
   "execution_count": null,
   "id": "c2c74ee9-bccf-4cfb-9905-722307eea26c",
   "metadata": {},
   "outputs": [],
   "source": [
    "cl = 0.0 # m, corrector length in meters\n",
    "kx = 0.0  # T-m = 19  G-m, corrector strength in x \n",
    "ky = 0.0 # T-m = -25 G-m, corrector strength in y - taking absolute value"
   ]
  },
  {
   "cell_type": "markdown",
   "id": "6da477da-07b0-4654-8686-aaf74e10bca3",
   "metadata": {},
   "source": [
    "## **Q3.3) Define the x and y matrices for a simplified dipole/corrector magnet.**"
   ]
  },
  {
   "cell_type": "code",
   "execution_count": null,
   "id": "14fbce7c-bddc-4ead-96bf-111fccfe0ceb",
   "metadata": {},
   "outputs": [],
   "source": [
    "rhox, thetax = calc_rho_theta(energy, kx, cl) \n",
    "rhoy, thetay = calc_rho_theta(energy, ky, cl)\n",
    "\n",
    "c_cmx = np.array([[0, 0],\n",
    "                 [0, 0]])\n",
    "\n",
    "c_cmy = np.array([[0, 0],\n",
    "                  [0, 0]])"
   ]
  },
  {
   "cell_type": "code",
   "execution_count": null,
   "id": "3d5f0ece-3e07-4232-8231-88f03739d241",
   "metadata": {},
   "outputs": [],
   "source": [
    "cxinit_offset = 0.001\n",
    "cyinit_offset = 0.001\n",
    "\n",
    "cxinit_angle = 0.08\n",
    "cyinit_angle = 0.08\n",
    "\n",
    "x0c = np.array([[0], # matrix for initial x0 offset\n",
    "               [0]])\n",
    "\n",
    "y0c = np.array([[0], # matrix for initial y0 offset\n",
    "               [0]])\n",
    "\n",
    "xc_offsets = calc_x2(x0c, m_d1, m_d2, c_cmx)\n",
    "yc_offsets = calc_x2(y0c, m_d1, m_d2, c_cmy) \n",
    "\n",
    "print('Beam offset at CM34 in x: ', xc_offsets[0][0]*1000, 'mm')\n",
    "print('Beam offset at CM34 in y: ', yc_offsets[0][0]*1000, 'mm')"
   ]
  },
  {
   "cell_type": "code",
   "execution_count": null,
   "id": "0f3af51f-51d0-49d7-b24c-0430f485e7a2",
   "metadata": {},
   "outputs": [],
   "source": []
  }
 ],
 "metadata": {
  "kernelspec": {
   "display_name": "Python 3 (ipykernel)",
   "language": "python",
   "name": "python3"
  },
  "language_info": {
   "codemirror_mode": {
    "name": "ipython",
    "version": 3
   },
   "file_extension": ".py",
   "mimetype": "text/x-python",
   "name": "python",
   "nbconvert_exporter": "python",
   "pygments_lexer": "ipython3",
   "version": "3.13.5"
  }
 },
 "nbformat": 4,
 "nbformat_minor": 5
}
