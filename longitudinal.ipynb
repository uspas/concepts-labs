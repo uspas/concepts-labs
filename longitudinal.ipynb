{
 "cells": [
  {
   "cell_type": "markdown",
   "id": "4de767ac-612f-430c-8d7d-1950817db044",
   "metadata": {},
   "source": [
    "![alt text](images/uspas.png)\n",
    "\n",
    "# Concepts of Accelerator Science and Technology \n",
    "# Computer Lab: Longitudinal Dynamics\n",
    "##### Author: N. Neveu, J. Shtalenkova\n",
    "\n",
    "This session deals with longitudinal dynamics in two sections. The first demonstrates the energy gain or loss of a particle depending on it's arrival time at an RF wave. The second section walks through a particle-in-cell example simulation in Elegant via Sirepo. The Sirepo example is adapted from the [Fundamentals Dispersion lab](https://github.com/uspas/fundamentals-labs/blob/main/Dispersion-Chromaticity.ipynb). \n",
    "\n",
    "### Python Notes:\n",
    "\n",
    "- Highlight (click into) a notebook cell and press Shift+Enter to execute, or use the play button at the top of the window.\n",
    "- Make sure you execute notebook cells in order. You must re-execute prior cells if you change something needed in a cell above where you are working.\n",
    "- You can also execute the whole notebook by using 'Run all cells' under the 'Run' tab.\n",
    "- '2**2' represents two squared, i.e. 2^2\n",
    "- A colon (:) means all values in that dimension. i.e. array[:,2] = all rows, second column\n",
    "- You can change the plot limits by adjusting the numbers in 'plt.ylim()'\n",
    "- Using the '@' symbol does matrix multiplication\n",
    "\n",
    "----------"
   ]
  },
  {
   "cell_type": "code",
   "execution_count": null,
   "id": "894a26ee-1e89-4215-8373-2d79151c6010",
   "metadata": {},
   "outputs": [],
   "source": [
    "### Run this cell to load needed packages\n",
    "%matplotlib inline\n",
    "from ipywidgets import interactive\n",
    "from matplotlib.widgets import Slider\n",
    "\n",
    "# Importing plotting library\n",
    "\n",
    "import matplotlib\n",
    "from matplotlib import pyplot as plt\n",
    "\n",
    "#Setting resolution of plot (changes size too)\n",
    "matplotlib.rcParams['figure.dpi'] = 100\n",
    "\n",
    "# Importing math library\n",
    "import numpy as np"
   ]
  },
  {
   "cell_type": "markdown",
   "id": "1fd570e1-1672-41c7-8ea4-6c5c460737b8",
   "metadata": {},
   "source": [
    "# 1. RF Calculations"
   ]
  },
  {
   "cell_type": "markdown",
   "id": "f3a92918-650b-480c-8dac-8a1ac302671e",
   "metadata": {},
   "source": [
    "Energy gained by a particle in an RF cavity can be described by the the $V(t)$ and phase ($\\phi$) of the RF waves in the cavity. The frequency ($f$) of the wave is defined by the frequency of the RF cavity. \n",
    "\n",
    "$V(t) = V_0\\, \\text{sin}(2\\pi f t) $\n",
    "\n",
    "$\\Delta E = e V(t) = e V_0\\, \\text{sin} \\phi$\n",
    "\n",
    "Making a lot of assumtions and assuming we are in a circular machine, we can rewrite the energy and phase equations as:\n",
    "\n",
    "$\\Delta E_{n+1} = \\Delta E_n + eV (sin \\phi_n - sin \\phi_s)$\n",
    "\n",
    "$\\phi_{n+1} = \\phi_n + \\frac{2 \\pi h \\eta}{E} \\Delta E_{n+1}$\n",
    "\n",
    "\n",
    "Note, the force applied to a particle in an RF cavitiy is described by the Lorentz equation:  \n",
    "$F = qE + B\\times v$\n",
    "\n",
    "## **Q1.1) Play with the number of steps in the interactive plot. Explain what is happening in the plot.**"
   ]
  },
  {
   "cell_type": "code",
   "execution_count": null,
   "id": "18c27d85-2411-47d7-b6f9-f6203c4cef23",
   "metadata": {},
   "outputs": [],
   "source": [
    "phase = np.linspace(0, np.pi, 1000)\n",
    "\n",
    "def ideal_energy(phase):\n",
    "    return -np.cos(phase)\n",
    "\n",
    "def calc_dE2(dE0, phi0):\n",
    "    #dE_n+1 = dE_n + eV* ( sin(phi_n) - sin(phi_s) )\n",
    "    dE  = dE0 + 0.01*(np.sin(phi0) - np.sin(0))\n",
    "    #phi_n+1 = phi + k * dE_n + eV ( sin(phi_n) - sin(phi_s) )\n",
    "    phi = phi0 + 0.01*dE \n",
    "    return dE, phi"
   ]
  },
  {
   "cell_type": "code",
   "execution_count": null,
   "id": "7745d42d-afca-4301-9bf4-ac8fb0b32e07",
   "metadata": {},
   "outputs": [],
   "source": [
    "def dE_plot(steps):\n",
    "    phi = np.array([np.pi, np.pi, np.pi])/2.0\n",
    "    delta_energy = np.array([-0.1, 0.0, 0.1])\n",
    "    dE = ideal_energy(phi)  + delta_energy\n",
    "\n",
    "    plt.figure()\n",
    "    plt.plot(phase, ideal_energy(phase), label='Initial RF wave')\n",
    "    for i in range(steps):\n",
    "       dE, phi = calc_dE2(dE, phi)    \n",
    "    #plt.plot(particle_phase, particle_energy, 'o', label='Particle Energy')\n",
    "\n",
    "    #dE, phi = calc_dE2(particle_phase, particle_energy)\n",
    "    plt.plot(phi, dE, 'ro', label='Particle Energy')\n",
    "    plt.xlabel(r'$\\theta$')\n",
    "    plt.ylabel('Energy [arb. units]')\n",
    "    plt.legend(loc='upper right')\n",
    "    plt.show()\n",
    "    \n",
    "interactive_plot = interactive(dE_plot, steps=(1,50,1))\n",
    "output = interactive_plot.children[-1]\n",
    "output.layout.height = '400px'\n",
    "interactive_plot"
   ]
  },
  {
   "cell_type": "code",
   "execution_count": null,
   "id": "d7e69851-2dbb-4507-93be-fa4bb8844637",
   "metadata": {},
   "outputs": [],
   "source": []
  },
  {
   "cell_type": "markdown",
   "id": "6b85841b-e7fb-4ef6-84a2-fcb3fffb36b3",
   "metadata": {},
   "source": [
    "## **Q1.2) The next plot is very typical of stable energy gain in a ring. What needs to change to make this plot unstable?**"
   ]
  },
  {
   "cell_type": "code",
   "execution_count": null,
   "id": "3877d53c-362d-4b78-a8bb-7b2ab2005056",
   "metadata": {},
   "outputs": [],
   "source": [
    "particle_phase = np.array([np.pi, np.pi, np.pi])/2.0\n",
    "delta_energy = np.array([-0.2, 0.0, 0.2])\n",
    "particle_energy = ideal_energy(particle_phase)  + delta_energy\n",
    "\n",
    "plt.figure()\n",
    "#plt.plot(phase, ideal_energy(phase), label='Ideal Energy')\n",
    "plt.plot(particle_phase, particle_energy, 'o', label='Particle Energy')\n",
    "\n",
    "dE = particle_energy\n",
    "phi = particle_phase\n",
    "for i in range(900):\n",
    "    dE, phi = calc_dE2(dE, phi)\n",
    "    plt.plot(phi, dE, 'ro')#, label='Particle Energy')\n",
    "plt.xlabel('phi')\n",
    "plt.ylabel('Energy [arb. units]')\n",
    "#plt.legend(loc='upper right')\n",
    "plt.show()"
   ]
  },
  {
   "cell_type": "markdown",
   "id": "bcabd063-52d3-4056-a7cf-d1f63dd480cb",
   "metadata": {},
   "source": [
    "# 2. Particle in Cell (PIC) Simulations"
   ]
  },
  {
   "cell_type": "markdown",
   "id": "95ad9741-2591-480c-b493-05baadf12770",
   "metadata": {},
   "source": [
    "### **Q2.1) Dispersion in FODO lattice**\n",
    "\n",
    "In the transverse lab, we used a FODO beamline without dipoles. Dipoles create dispersion ($\\eta$ or D, depending who you talk to), which describes the evolution of transverse size for particles/beams that are off-momentum. Off-momentum particles experience a different force in the dipole than the design orbit, as they have different magnetic rigidity $B\\rho=\\frac{p}{q}$. \n",
    "The initial conditions for this simulation:\n",
    "\n",
    "| Species  | Election  |   \n",
    "|---|---| \n",
    "| Energy  | 1 GeV  |   \n",
    "|  X emittance | $\\epsilon_x = 6$ mm-mrad  |  \n",
    "|  Y emittance |  $\\epsilon_y = 6$ mm-mrad |  \n",
    "|  Quadrupole geometric strength | $K = 0.6$ m$^{-2}$|\n",
    "|  FODO cell length | $L = 5$ m|\n",
    "\n",
    "Open simulation “FODObeamline-with-dipole” \n",
    "> https://www.sirepo.com/elegant#/source/SMHkFUFD\n",
    "\n",
    "\n",
    "- Look at all the tabs at the top of the page.\n",
    "- Go to Visualization tab and run the simulation (make sure beamline \"FODOcell\" is selected). \n",
    "- verify that calculated solution is matched. If not, under Tab: Control -> twiss_output, Change Matched to Yes and re-run simulation. "
   ]
  },
  {
   "cell_type": "markdown",
   "id": "b572ddaf-eb62-4c91-bce1-266449430f31",
   "metadata": {},
   "source": [
    "### **Q2.2) Change the x and/or y offset in the initial distribution. How does this impact the simulation? Paste screen shots here.**"
   ]
  },
  {
   "cell_type": "markdown",
   "id": "f6ce463e-a2c5-47fd-95d3-d415220abac0",
   "metadata": {},
   "source": []
  },
  {
   "cell_type": "markdown",
   "id": "ed87e020-e4de-46bc-b074-2cf2e4807ad8",
   "metadata": {},
   "source": [
    "### **Q2.3) Change the initial emittance. How does this impact the simulation? Paste screen shots here.**"
   ]
  },
  {
   "cell_type": "markdown",
   "id": "db79ff8c-ea8a-48fd-8929-60b95ca2d732",
   "metadata": {},
   "source": []
  },
  {
   "cell_type": "markdown",
   "id": "ef8d169a-5142-49d2-8269-5ace22066b99",
   "metadata": {},
   "source": [
    "### **Q2.4) Why do we need PIC simulations (vs. matrix calculation or single particle dynamics)?**"
   ]
  },
  {
   "cell_type": "markdown",
   "id": "7cc0c3bf-312c-4f58-ad93-e797248a859e",
   "metadata": {},
   "source": []
  },
  {
   "cell_type": "markdown",
   "id": "810078e6-e601-44e3-9a2c-a30fcf2cad91",
   "metadata": {},
   "source": [
    "#### A comment on dipole edge focusing:\n",
    "First, scroll to the sigma_output plot to observe the effect of the dipole on the beam moments.\n",
    "\n",
    "Note that the sigma_output plot is generated by tracking a particle distribution through the cell. This distribution does not include a momentum spread, so dispersion should not affect the results of this plot. \n",
    "\n",
    "However, you will observe that Sx looks slightly different from the case without a dipole. There is a small de-focusing kick at the entrance of the dipole, and a small focusing kick at the exit of the dipole. These two kicks cancel, and the periodic solution in the horizontal plane is almost identical to the FODO cell without a dipole. \n",
    "\n",
    "In contrast, the average value of Sy has decreased significantly, and there is a focusing kick at the entrance and exit. The dipole has a net focusing effect in the vertical plane. \n",
    "\n",
    "The reason for these differences is an effect called *edge focusing*, which is caused by fringe fields that extend past the edge of the dipole. An exploration of edge focusing is beyond the scope of this lab, but it is good to be aware that this is another way in which dipoles affect the lattice and beam parameters. Edge focusing is an effect which does not depend on beam energy spread. In contrast, the strength of the effects caused by dispersion and chromaticity do depend on energy spread in the particle distribution - which is mainly determined by the RF system used for acceleration.\n",
    "\n",
    "#### Effect of dispersion on beam size:\n",
    "\n",
    "Scroll down and to the twiss_output plot.\n",
    "Observe dispersion $\\eta_x$ (etax). \n",
    "\n",
    "hint: to see dispersion function at an appropriate scale, turn off $\\beta_x$ and $\\beta_y$ curves by un-checking the boxes."
   ]
  },
  {
   "cell_type": "code",
   "execution_count": null,
   "id": "a4e75e98-f03b-427a-9671-350e7d3ae117",
   "metadata": {},
   "outputs": [],
   "source": []
  }
 ],
 "metadata": {
  "kernelspec": {
   "display_name": "Python 3 (ipykernel)",
   "language": "python",
   "name": "python3"
  },
  "language_info": {
   "codemirror_mode": {
    "name": "ipython",
    "version": 3
   },
   "file_extension": ".py",
   "mimetype": "text/x-python",
   "name": "python",
   "nbconvert_exporter": "python",
   "pygments_lexer": "ipython3",
   "version": "3.13.5"
  }
 },
 "nbformat": 4,
 "nbformat_minor": 5
}
